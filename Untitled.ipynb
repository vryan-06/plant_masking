{
 "cells": [
  {
   "cell_type": "code",
   "execution_count": 8,
   "id": "e0f77beb",
   "metadata": {},
   "outputs": [
    {
     "name": "stdout",
     "output_type": "stream",
     "text": [
      "Binder detected.\n"
     ]
    }
   ],
   "source": [
    "import os\n",
    "\n",
    "# Detect notebook environment\n",
    "def detect_notebook_environment():\n",
    "    if 'COLAB_GPU' in os.environ:\n",
    "        print('Google Colaboratory detected.')\n",
    "        %pip install \"altair>=5\" ipympl plantcv\n",
    "        \n",
    "        # Give access and mount your Google Drive (need a Google Account)\n",
    "        from google.colab import drive\n",
    "        drive.mount('/content/gdrive')\n",
    "        \n",
    "        # Enable widget feature with matplotlib\n",
    "        from google.colab import output\n",
    "        output.enable_custom_widget_manager()\n",
    "        \n",
    "        #View working directory, may need to change\n",
    "        %pwd\n",
    "    else:\n",
    "        print('Binder detected.')\n",
    "\n",
    "environment = detect_notebook_environment()"
   ]
  },
  {
   "cell_type": "code",
   "execution_count": 15,
   "id": "b046985a",
   "metadata": {},
   "outputs": [
    {
     "ename": "ImportError",
     "evalue": "cannot import name 'WorkflowInputs' from 'plantcv.parallel' (C:\\Users\\ryan1\\AppData\\Roaming\\Python\\Python310\\site-packages\\plantcv\\parallel\\__init__.py)",
     "output_type": "error",
     "traceback": [
      "\u001b[1;31m---------------------------------------------------------------------------\u001b[0m",
      "\u001b[1;31mImportError\u001b[0m                               Traceback (most recent call last)",
      "Input \u001b[1;32mIn [15]\u001b[0m, in \u001b[0;36m<cell line: 3>\u001b[1;34m()\u001b[0m\n\u001b[0;32m      1\u001b[0m get_ipython()\u001b[38;5;241m.\u001b[39mrun_line_magic(\u001b[38;5;124m'\u001b[39m\u001b[38;5;124mmatplotlib\u001b[39m\u001b[38;5;124m'\u001b[39m, \u001b[38;5;124m'\u001b[39m\u001b[38;5;124mwidget\u001b[39m\u001b[38;5;124m'\u001b[39m)\n\u001b[0;32m      2\u001b[0m \u001b[38;5;28;01mfrom\u001b[39;00m \u001b[38;5;21;01mplantcv\u001b[39;00m \u001b[38;5;28;01mimport\u001b[39;00m plantcv \u001b[38;5;28;01mas\u001b[39;00m pcv\n\u001b[1;32m----> 3\u001b[0m \u001b[38;5;28;01mfrom\u001b[39;00m \u001b[38;5;21;01mplantcv\u001b[39;00m\u001b[38;5;21;01m.\u001b[39;00m\u001b[38;5;21;01mparallel\u001b[39;00m \u001b[38;5;28;01mimport\u001b[39;00m WorkflowInputs\n",
      "\u001b[1;31mImportError\u001b[0m: cannot import name 'WorkflowInputs' from 'plantcv.parallel' (C:\\Users\\ryan1\\AppData\\Roaming\\Python\\Python310\\site-packages\\plantcv\\parallel\\__init__.py)"
     ]
    }
   ],
   "source": [
    "%matplotlib widget\n",
    "from plantcv import plantcv as pcv\n",
    "from plantcv.parallel import WorkflowInputs"
   ]
  },
  {
   "cell_type": "code",
   "execution_count": 14,
   "id": "f527ffa2",
   "metadata": {},
   "outputs": [
    {
     "ename": "NameError",
     "evalue": "name 'WorkflowInputs' is not defined",
     "output_type": "error",
     "traceback": [
      "\u001b[1;31m---------------------------------------------------------------------------\u001b[0m",
      "\u001b[1;31mNameError\u001b[0m                                 Traceback (most recent call last)",
      "Input \u001b[1;32mIn [14]\u001b[0m, in \u001b[0;36m<cell line: 2>\u001b[1;34m()\u001b[0m\n\u001b[0;32m      1\u001b[0m \u001b[38;5;66;03m# Input/output options\u001b[39;00m\n\u001b[1;32m----> 2\u001b[0m args \u001b[38;5;241m=\u001b[39m \u001b[43mWorkflowInputs\u001b[49m(\n\u001b[0;32m      3\u001b[0m     images\u001b[38;5;241m=\u001b[39m[\u001b[38;5;124m\"\u001b[39m\u001b[38;5;124m./collected_data/p1.jpeg\u001b[39m\u001b[38;5;124m\"\u001b[39m],\n\u001b[0;32m      4\u001b[0m     names\u001b[38;5;241m=\u001b[39m\u001b[38;5;124m\"\u001b[39m\u001b[38;5;124mimage\u001b[39m\u001b[38;5;124m\"\u001b[39m,\n\u001b[0;32m      5\u001b[0m     result\u001b[38;5;241m=\u001b[39m\u001b[38;5;124m\"\u001b[39m\u001b[38;5;124mexample_results_oneimage_file.csv\u001b[39m\u001b[38;5;124m\"\u001b[39m,\n\u001b[0;32m      6\u001b[0m     outdir\u001b[38;5;241m=\u001b[39m\u001b[38;5;124m\"\u001b[39m\u001b[38;5;124m.\u001b[39m\u001b[38;5;124m\"\u001b[39m,\n\u001b[0;32m      7\u001b[0m     writeimg\u001b[38;5;241m=\u001b[39m\u001b[38;5;28;01mFalse\u001b[39;00m,\n\u001b[0;32m      8\u001b[0m     debug\u001b[38;5;241m=\u001b[39m\u001b[38;5;124m\"\u001b[39m\u001b[38;5;124mplot\u001b[39m\u001b[38;5;124m\"\u001b[39m\n\u001b[0;32m      9\u001b[0m     )\n",
      "\u001b[1;31mNameError\u001b[0m: name 'WorkflowInputs' is not defined"
     ]
    }
   ],
   "source": [
    "# Input/output options\n",
    "args = WorkflowInputs(\n",
    "    images=[\"./collected_data/p1.jpeg\"],\n",
    "    names=\"image\",\n",
    "    result=\"example_results_oneimage_file.csv\",\n",
    "    outdir=\".\",\n",
    "    writeimg=False,\n",
    "    debug=\"plot\"\n",
    "    )"
   ]
  },
  {
   "cell_type": "code",
   "execution_count": 16,
   "id": "43fce6b9",
   "metadata": {},
   "outputs": [
    {
     "name": "stdout",
     "output_type": "stream",
     "text": [
      "Defaulting to user installation because normal site-packages is not writeable\n",
      "Note: you may need to restart the kernel to use updated packages.\n"
     ]
    },
    {
     "name": "stderr",
     "output_type": "stream",
     "text": [
      "ERROR: Could not find a version that satisfies the requirement plantcv.parallel (from versions: none)\n",
      "ERROR: No matching distribution found for plantcv.parallel\n",
      "\n",
      "[notice] A new release of pip is available: 23.3.1 -> 23.3.2\n",
      "[notice] To update, run: python.exe -m pip install --upgrade pip\n"
     ]
    }
   ],
   "source": [
    "pip install plantcv.parallel"
   ]
  },
  {
   "cell_type": "code",
   "execution_count": null,
   "id": "3f706948",
   "metadata": {},
   "outputs": [],
   "source": []
  }
 ],
 "metadata": {
  "kernelspec": {
   "display_name": "Python 3 (ipykernel)",
   "language": "python",
   "name": "python3"
  },
  "language_info": {
   "codemirror_mode": {
    "name": "ipython",
    "version": 3
   },
   "file_extension": ".py",
   "mimetype": "text/x-python",
   "name": "python",
   "nbconvert_exporter": "python",
   "pygments_lexer": "ipython3",
   "version": "3.10.5"
  }
 },
 "nbformat": 4,
 "nbformat_minor": 5
}
